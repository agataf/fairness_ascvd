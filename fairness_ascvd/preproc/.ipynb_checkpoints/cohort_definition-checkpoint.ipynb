{
 "cells": [
  {
   "cell_type": "code",
   "execution_count": 57,
   "metadata": {},
   "outputs": [
    {
     "name": "stdout",
     "output_type": "stream",
     "text": [
      "mesa cohort extraction:\n",
      "\n",
      "6814 \t subjects in input file\n",
      "----------\n",
      "382 \t removed: extreme values\n",
      "1390 \t removed: exclusion criteria\n",
      "4 \t removed: missing variables\n",
      "113 \t LDL-c values imputed\n",
      "----------\n",
      "5143 \t subjects remain\n"
     ]
    }
   ],
   "source": [
    "import pandas as pd \n",
    "import numpy as np\n",
    "import os\n",
    "\n",
    "# import argparse\n",
    "\n",
    "# parser = argparse.ArgumentParser()\n",
    "# parser.add_argument('--study', type=str)\n",
    "# parser.add_argument('--input_dir', type=str)\n",
    "# parser.add_argument('--output_dir', type=str)\n",
    "# args = parser.parse_args()\n",
    "\n",
    "# study = args.study\n",
    "# input_dir = args.input_dir\n",
    "# output_dir = args.output_dir\n",
    "\n",
    "study = 'mesa' \n",
    "top_dirname = '/labs/shahlab/projects/agataf/data/pooled_cohorts/'\n",
    "input_dir = os.path.join(top_dirname, 'variable_selection')\n",
    "output_dir = os.path.join(top_dirname, 'cohort_extraction')\n",
    "print_info = True\n",
    "os.makedirs(output_dir, exist_ok=True)\n",
    "\n",
    "# model_vars = ['age', 'totchol', 'hdl', 'sysbp', 'rxbp', \n",
    "#               'dm', 'cursmoke', 'race_white', 'gender_male',\n",
    "#               'event_time_10yr', 'censored_10yr', 'ascvd_10yr']\n",
    "\n",
    "model_vars = ['cohort_pid', 'age', 'race_black', 'gender_male',\n",
    "     'grp', 'hdlc', 'ldlc', 'trigly', 'totchol', \n",
    "     'cursmoke', 'diabt126', 'unrxsbp', 'rxsbp', 'study', \n",
    "     'ascvd_10yr', 'censored_10yr', 'event_time_10yr']\n",
    "\n",
    "df = pd.read_csv(os.path.join(input_dir, '.'.join((study, 'csv'))))\n",
    "\n",
    "def exclude(df):    \n",
    "    excl_race = df.grp.isna()\n",
    "    excl_age = ~df.age.between(40,79)\n",
    "    excl_prevcond = ((df.prevcond== 1) | \n",
    "                              (df.max_time <= 0))\n",
    "    excl_statin = (df.cholmed == 1)\n",
    "    \n",
    "    extr_sysbp = ~df.sysbp.between(90,200)\n",
    "    extr_totchol = ~df.totchol.between(130,320)\n",
    "    extr_hdlc = ~df.hdlc.between(20,100)\n",
    "    \n",
    "    excl_missing = df.filter(items = ['age', 'totchol', 'hdl', 'sysbp', 'rxbp', \n",
    "              'dm', 'cursmoke', 'race', 'gender',\n",
    "              'event_time_10yr', 'censored_10yr', 'ascvd_10yr']).isnull().any(axis=1)\n",
    "    \n",
    "    extr_all = (extr_sysbp | extr_totchol | extr_hdlc)\n",
    "    excl_all = (excl_race | excl_age | excl_prevcond | excl_statin | excl_missing)\n",
    "    \n",
    "    if print_info:\n",
    "        print(sum(extr_all), '\\t removed: extreme values')\n",
    "        print(sum(excl_all), '\\t removed: exclusion criteria')\n",
    "        \n",
    "    df = df[~(extr_all | excl_all)]\n",
    "    \n",
    "    return df\n",
    "\n",
    "def calc_ldlc(df):\n",
    "    new_ldlc = df.totchol - (df.hdlc + df.trigly/5)\n",
    "    return new_ldlc\n",
    "\n",
    "\n",
    "df_final = (df.\n",
    "            assign(timetoascvd = lambda x: (x\n",
    "                                            .filter(items=['timetomi', 'timetostrk', 'timetochddeath',\n",
    "                                                           'timetostrkdeath'])\n",
    "                                            .replace(0.0, 1e18) # TODO:why is this here @stephen\n",
    "                                            .min(axis=1)\n",
    "                                           ),\n",
    "                   ascvd       = lambda x: (x\n",
    "                                            .filter(items=['mi', 'strk', 'chddeath', 'strkdeath'])\n",
    "                                            .any(axis=1)\n",
    "                                            .astype(int)\n",
    "                                           ),\n",
    "                   max_time    = lambda x: (x\n",
    "                                            .filter(items=['lastexam', 'lastfu', 'timetodth', 'timetoascvd'])\n",
    "                                            .max(axis=1)\n",
    "                                           ),\n",
    "                   event_time  = lambda x: np.minimum(x.timetoascvd.replace(np.nan, float('inf')), \n",
    "                                                      x.max_time.replace(np.nan, float('inf'))\n",
    "                                                     ),\n",
    "                   prevcond    = lambda x: x.filter(items=['prevmi', 'prevstrk', 'prevproc', 'prevchf',\n",
    "                                                           'prevcvd','prevchd', 'prevafib']\n",
    "                                                   ).any(axis=1).astype(int),\n",
    "                   unrxsbp     = lambda x: x.sysbp*(1-x.hyptmdsr),\n",
    "                   rxsbp       = lambda x: x.sysbp*(x.hyptmdsr),\n",
    "                   race        = lambda x: x.racegrp.map({'B': 'black', 'W': 'white'}),\n",
    "                   gender      = lambda x: x.gender.map({'M': 'male', 'F': 'female'}),\n",
    "                   race_black  = lambda x: 1.0 * (x.race == 'black'), \n",
    "                   gender_male = lambda x: 1.0 * (x.gender == 'male'),\n",
    "                   grp         = lambda x: (x.race == 'black')*1 + (x.gender == 'male')*2,\n",
    "                   ascvd_10yr  = lambda x: (x.timetoascvd <= 10) & (x.ascvd == 1),\n",
    "                   censored_10yr   = lambda x: (x.event_time <= 10) & (x.ascvd == 0),\n",
    "                   event_time_10yr = lambda x: np.minimum(x.event_time, 10)\n",
    "                  )\n",
    "            .filter(items = ['cohort_pid', 'age', 'race_black', 'gender_male',\n",
    "                             'grp', 'hdlc', 'ldlc', 'trigly', 'totchol', \n",
    "                             'cursmoke', 'diabt126', 'unrxsbp', 'rxsbp', 'study', \n",
    "                             'ascvd_10yr', 'censored_10yr', 'event_time_10yr',\n",
    "                             'prevcond', 'max_time', 'cholmed', 'sysbp'])\n",
    "           )\n",
    "\n",
    "if print_info:\n",
    "    print(study, 'cohort extraction:\\n')\n",
    "    print(df.shape[0], '\\t subjects in input file')\n",
    "    print('----------')\n",
    "    \n",
    "n_ldl_missing = df_final.ldlc.isna().sum()\n",
    "df_final = df_final.assign(ldlc = lambda x: np.where(x.ldlc.isna(), calc_ldlc(x), x.ldlc))\n",
    "\n",
    "cohort_excl = exclude(df_final)\n",
    "\n",
    "cohort = (cohort_excl\n",
    "          .reset_index()\n",
    "          .rename_axis('person_id')\n",
    "          .filter(items = model_vars)\n",
    "          \n",
    ")\n",
    "\n",
    "if print_info:\n",
    "    print(cohort_excl.shape[0]-cohort.dropna().shape[0], '\\t removed: missing variables')\n",
    "    print(n_ldl_missing, '\\t LDL-c values imputed')\n",
    "    print('----------')\n",
    "    print(cohort_excl.shape[0], '\\t subjects remain')\n",
    "    \n",
    "    missing_cols = len(set(model_vars)-set(cohort.columns)) \n",
    "    if missing_cols > 0:\n",
    "        print('missing', missing_cols, 'columns:', set(model_vars)-set(cohort.columns))\n",
    "        \n",
    "    print('--------------------\\n\\n')\n",
    "\n",
    "cohort.dropna().to_csv(os.path.join(output_dir, ''.join((study, '.csv'))), index = True)"
   ]
  },
  {
   "cell_type": "code",
   "execution_count": null,
   "metadata": {},
   "outputs": [],
   "source": [
    "a = cohort.dropna()"
   ]
  },
  {
   "cell_type": "code",
   "execution_count": 56,
   "metadata": {},
   "outputs": [
    {
     "data": {
      "text/plain": [
       "0"
      ]
     },
     "execution_count": 56,
     "metadata": {},
     "output_type": "execute_result"
    }
   ],
   "source": []
  },
  {
   "cell_type": "code",
   "execution_count": 33,
   "metadata": {},
   "outputs": [],
   "source": []
  },
  {
   "cell_type": "code",
   "execution_count": 37,
   "metadata": {},
   "outputs": [],
   "source": [
    "new_ldlc = np.where(cohort.ldlc.isna(), calc_ldlc(cohort), cohort.ldlc)"
   ]
  },
  {
   "cell_type": "code",
   "execution_count": 41,
   "metadata": {},
   "outputs": [
    {
     "name": "stdout",
     "output_type": "stream",
     "text": [
      "6814 original file size\n",
      "5143 applied exclusion criteria\n",
      "5139 dropped missing\n"
     ]
    }
   ],
   "source": [
    "print(df.shape[0], 'in input file')\n",
    "print(cohort.shape[0], '')\n",
    "print(cohort.dropna().shape[0], 'dropped missing')"
   ]
  },
  {
   "cell_type": "code",
   "execution_count": 6,
   "metadata": {},
   "outputs": [
    {
     "data": {
      "text/plain": [
       "Index(['cohort_pid', 'age', 'race_black', 'gender_male', 'grp', 'hdlc', 'ldlc',\n",
       "       'trigly', 'totchol', 'cursmoke', 'diabt126', 'unrxsbp', 'rxsbp',\n",
       "       'study', 'ascvd_10yr', 'censored_10yr', 'event_time_10yr'],\n",
       "      dtype='object')"
      ]
     },
     "execution_count": 6,
     "metadata": {},
     "output_type": "execute_result"
    }
   ],
   "source": [
    "cohort.columns"
   ]
  },
  {
   "cell_type": "code",
   "execution_count": 7,
   "metadata": {},
   "outputs": [
    {
     "data": {
      "text/plain": [
       "(array([  25.,   31.,   33.,   48.,   60.,   61.,   53.,   70.,   61.,\n",
       "        2884.]),\n",
       " array([ 0.11225188,  1.10102669,  2.08980151,  3.07857632,  4.06735113,\n",
       "         5.05612594,  6.04490075,  7.03367556,  8.02245038,  9.01122519,\n",
       "        10.        ]),\n",
       " <BarContainer object of 10 artists>)"
      ]
     },
     "execution_count": 7,
     "metadata": {},
     "output_type": "execute_result"
    },
    {
     "data": {
      "image/png": "[encoded data removed]",
      "text/plain": [
       "<Figure size 432x288 with 1 Axes>"
      ]
     },
     "metadata": {
      "needs_background": "light"
     },
     "output_type": "display_data"
    }
   ],
   "source": [
    "import matplotlib.pyplot as plt\n",
    "plt.hist(cohort.event_time_10yr)"
   ]
  },
  {
   "cell_type": "code",
   "execution_count": 8,
   "metadata": {},
   "outputs": [
    {
     "data": {
      "text/plain": [
       "(array([  29.,   51.,   68.,   78.,  111.,   98.,  108.,  162.,  577.,\n",
       "        2043.]),\n",
       " array([ 0.48459959,  2.1798768 ,  3.875154  ,  5.57043121,  7.26570842,\n",
       "         8.96098563, 10.65626283, 12.35154004, 14.04681725, 15.74209446,\n",
       "        17.43737166]),\n",
       " <BarContainer object of 10 artists>)"
      ]
     },
     "execution_count": 8,
     "metadata": {},
     "output_type": "execute_result"
    },
    {
     "data": {
      "image/png": "[encoded data removed]",
      "text/plain": [
       "<Figure size 432x288 with 1 Axes>"
      ]
     },
     "metadata": {
      "needs_background": "light"
     },
     "output_type": "display_data"
    }
   ],
   "source": [
    "plt.hist(cohort_excl.max_time)"
   ]
  },
  {
   "cell_type": "markdown",
   "metadata": {},
   "source": [
    "Previous conditions in MESA - not coded??"
   ]
  },
  {
   "cell_type": "markdown",
   "metadata": {},
   "source": [
    "readme:\n",
    "```\n",
    "timetoascvd: time (in years) between first exam and the ascvd event (if observed)\n",
    "max_time: last time observed for an individual - either the time of ascvd, death, last exam or last follow-up\n",
    "event_time: time of ascvd or last observation, whichever happened first\n",
    "\n",
    "to browse variables:\n",
    "mesa: https://www.ncbi.nlm.nih.gov/projects/gap/cgi-bin/variable.cgi?study_id=phs000209.v13.p3&phv=87079\n",
    "```\n"
   ]
  }
 ],
 "metadata": {
  "kernelspec": {
   "display_name": "Python 3",
   "language": "python",
   "name": "python3"
  },
  "language_info": {
   "codemirror_mode": {
    "name": "ipython",
    "version": 3
   },
   "file_extension": ".py",
   "mimetype": "text/x-python",
   "name": "python",
   "nbconvert_exporter": "python",
   "pygments_lexer": "ipython3",
   "version": "3.8.5"
  }
 },
 "nbformat": 4,
 "nbformat_minor": 2
}
