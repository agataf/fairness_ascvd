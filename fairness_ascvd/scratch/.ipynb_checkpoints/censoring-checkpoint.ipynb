{
 "cells": [
  {
   "cell_type": "code",
   "execution_count": 3,
   "metadata": {},
   "outputs": [],
   "source": [
    "import numpy as np\n",
    "import pandas as pd\n",
    "import os\n",
    "from lifelines import KaplanMeierFitter\n",
    "\n",
    "def read_file(filename, columns=None, **kwargs):\n",
    "    load_extension = os.path.splitext(filename)[-1]\n",
    "    if load_extension == \".parquet\":\n",
    "        return pd.read_parquet(filename, columns=columns, **kwargs)\n",
    "    elif load_extension == \".csv\":\n",
    "        return pd.read_csv(filename, usecols=columns, **kwargs)\n",
    "\n",
    "def censoring_weights(df, model_type = 'KM'):\n",
    "\n",
    "    if model_type == 'KM':\n",
    "        censoring_model = KaplanMeierFitter()\n",
    "    else:\n",
    "        raise ValueError(\"censoring_model not defined\")\n",
    "    \n",
    "    censoring_model.fit(df.query('is_train==1').event_time, 1.0*~df.query('is_train==1').event_indicator)\n",
    "    \n",
    "    weights = 1 / censoring_model.survival_function_at_times(df.event_time_10yr.values - 1e-5)\n",
    "    weights_dict = dict(zip(df.index.values, weights.values))\n",
    "    return weights_dict\n",
    "\n",
    "def get_censoring(df, by_group=True, model_type='KM'):\n",
    "    \n",
    "    if by_group:\n",
    "        weight_dict = {}\n",
    "        for group in [1, 2, 3, 4]:\n",
    "            group_df = df.query('grp==@group')\n",
    "            group_weights_dict = censoring_weights(group_df, model_type)\n",
    "            weight_dict.update(group_weights_dict)\n",
    "            \n",
    "    else:\n",
    "        weight_dict = censoring_weights(cohort, censoring_model_type)\n",
    "\n",
    "    weights = pd.Series(weight_dict, name='weights') \n",
    "    return weights\n",
    "    \n",
    "cohort_path = '/labs/shahlab/projects/agataf/data/pooled_cohorts/cohort_extraction/all_cohorts.csv'\n",
    "\n",
    "\n",
    "\n",
    "val_fold_id = '1'\n",
    "censoring_model_type='KM'\n",
    "censoring_by_group = True\n",
    "\n",
    "cohort = read_file(cohort_path)\n",
    "cohort = cohort.assign(is_train = lambda x: np.where((x.fold_id != val_fold_id) & (x.fold_id != \"test\"), 1, 0))\n",
    "del cohort['weights']\n",
    "\n",
    "all_weights = get_censoring(cohort, by_group = censoring_by_group, model_type = censoring_model_type)\n",
    "cohort = cohort.join(all_weights)"
   ]
  },
  {
   "cell_type": "code",
   "execution_count": 5,
   "metadata": {},
   "outputs": [],
   "source": [
    "# add to train_model\n",
    "# run training again, with censoring done by group, with larger range of lambda\n",
    "# do the same but with MMD"
   ]
  },
  {
   "cell_type": "code",
   "execution_count": null,
   "metadata": {},
   "outputs": [],
   "source": [
    "    # train censoring model\n",
    "    "
   ]
  }
 ],
 "metadata": {
  "kernelspec": {
   "display_name": "Python 3",
   "language": "python",
   "name": "python3"
  },
  "language_info": {
   "codemirror_mode": {
    "name": "ipython",
    "version": 3
   },
   "file_extension": ".py",
   "mimetype": "text/x-python",
   "name": "python",
   "nbconvert_exporter": "python",
   "pygments_lexer": "ipython3",
   "version": "3.8.5"
  }
 },
 "nbformat": 4,
 "nbformat_minor": 4
}
