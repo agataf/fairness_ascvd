{
 "cells": [
  {
   "cell_type": "code",
   "execution_count": null,
   "metadata": {},
   "outputs": [],
   "source": [
    "old='/labs/shahlab/projects/agataf/data/pooled_cohorts/cohort_extraction/all_cohorts_0.2test.csv'\n",
    "#df = pd.read_csv(old)\n",
    "\n",
    "result = {}\n",
    "for (grp_name, grp_df) in df.query(\"(fold_id=='test') | (fold_id=='eval')\").groupby(['censored_10yr', 'ascvd_10yr', 'race_black', 'gender_male', 'study']):\n",
    "    print(grp_df.shape)\n",
    "    n_test = int(grp_df.shape[0]/2)\n",
    "    n_val = grp_df.shape[0]-int(grp_df.shape[0]/2)\n",
    "    ns = [n_test, n_val]\n",
    "    random.shuffle(ns)\n",
    "    folds = ['test']*ns[0]+['eval']*ns[1]\n",
    "    random.shuffle(folds)\n",
    "    \n",
    "    #folds = [random.choice(['eval', 'test']) for el in range(grp_df.shape[0])]\n",
    "    result[grp_name] = grp_df.assign(fold_id=folds)\n",
    "\n",
    "a = pd.concat(result, ignore_index=True).set_index('person_id')\n",
    "#df.update(pd.DataFrame(a.fold_id))\n",
    "a.reset_index().to_csv(old, index = False)\n",
    "#df.update(pd.concat(result, ignore_index=True).fold_id)\n"
   ]
  },
  {
   "cell_type": "code",
   "execution_count": 105,
   "metadata": {},
   "outputs": [
    {
     "data": {
      "text/html": [
       "<div>\n",
       "<style scoped>\n",
       "    .dataframe tbody tr th:only-of-type {\n",
       "        vertical-align: middle;\n",
       "    }\n",
       "\n",
       "    .dataframe tbody tr th {\n",
       "        vertical-align: top;\n",
       "    }\n",
       "\n",
       "    .dataframe thead th {\n",
       "        text-align: right;\n",
       "    }\n",
       "</style>\n",
       "<table border=\"1\" class=\"dataframe\">\n",
       "  <thead>\n",
       "    <tr style=\"text-align: right;\">\n",
       "      <th></th>\n",
       "      <th></th>\n",
       "      <th>ascvd_10yr</th>\n",
       "      <th>censored_10yr</th>\n",
       "    </tr>\n",
       "    <tr>\n",
       "      <th>fold_id</th>\n",
       "      <th>grp</th>\n",
       "      <th></th>\n",
       "      <th></th>\n",
       "    </tr>\n",
       "  </thead>\n",
       "  <tbody>\n",
       "    <tr>\n",
       "      <th rowspan=\"4\" valign=\"top\">eval</th>\n",
       "      <th>1</th>\n",
       "      <td>0.049541</td>\n",
       "      <td>0.100917</td>\n",
       "    </tr>\n",
       "    <tr>\n",
       "      <th>2</th>\n",
       "      <td>0.060465</td>\n",
       "      <td>0.059302</td>\n",
       "    </tr>\n",
       "    <tr>\n",
       "      <th>3</th>\n",
       "      <td>0.079692</td>\n",
       "      <td>0.115681</td>\n",
       "    </tr>\n",
       "    <tr>\n",
       "      <th>4</th>\n",
       "      <td>0.099469</td>\n",
       "      <td>0.075597</td>\n",
       "    </tr>\n",
       "    <tr>\n",
       "      <th rowspan=\"4\" valign=\"top\">test</th>\n",
       "      <th>1</th>\n",
       "      <td>0.061914</td>\n",
       "      <td>0.095685</td>\n",
       "    </tr>\n",
       "    <tr>\n",
       "      <th>2</th>\n",
       "      <td>0.056257</td>\n",
       "      <td>0.061998</td>\n",
       "    </tr>\n",
       "    <tr>\n",
       "      <th>3</th>\n",
       "      <td>0.080729</td>\n",
       "      <td>0.122396</td>\n",
       "    </tr>\n",
       "    <tr>\n",
       "      <th>4</th>\n",
       "      <td>0.101183</td>\n",
       "      <td>0.070959</td>\n",
       "    </tr>\n",
       "  </tbody>\n",
       "</table>\n",
       "</div>"
      ],
      "text/plain": [
       "             ascvd_10yr  censored_10yr\n",
       "fold_id grp                           \n",
       "eval    1      0.049541       0.100917\n",
       "        2      0.060465       0.059302\n",
       "        3      0.079692       0.115681\n",
       "        4      0.099469       0.075597\n",
       "test    1      0.061914       0.095685\n",
       "        2      0.056257       0.061998\n",
       "        3      0.080729       0.122396\n",
       "        4      0.101183       0.070959"
      ]
     },
     "execution_count": 105,
     "metadata": {},
     "output_type": "execute_result"
    }
   ],
   "source": [
    "(a.query(\"(fold_id=='test') | (fold_id=='eval')\")\n",
    " .filter(['fold_id', 'grp', 'ascvd_10yr', 'censored_10yr'])\n",
    " .groupby(['fold_id', 'grp'])\n",
    " .mean()\n",
    ")"
   ]
  },
  {
   "cell_type": "code",
   "execution_count": 77,
   "metadata": {},
   "outputs": [
    {
     "data": {
      "text/plain": [
       "['test',\n",
       " 'test',\n",
       " 'test',\n",
       " 'val',\n",
       " 'test',\n",
       " 'val',\n",
       " 'val',\n",
       " 'val',\n",
       " 'test',\n",
       " 'val',\n",
       " 'val',\n",
       " 'test',\n",
       " 'test',\n",
       " 'val',\n",
       " 'val',\n",
       " 'test']"
      ]
     },
     "execution_count": 77,
     "metadata": {},
     "output_type": "execute_result"
    }
   ],
   "source": [
    "labels"
   ]
  },
  {
   "cell_type": "code",
   "execution_count": 69,
   "metadata": {},
   "outputs": [],
   "source": [
    "n_test = int(grp_df.shape[0]/2)"
   ]
  }
 ],
 "metadata": {
  "kernelspec": {
   "display_name": "Python 3",
   "language": "python",
   "name": "python3"
  },
  "language_info": {
   "codemirror_mode": {
    "name": "ipython",
    "version": 3
   },
   "file_extension": ".py",
   "mimetype": "text/x-python",
   "name": "python",
   "nbconvert_exporter": "python",
   "pygments_lexer": "ipython3",
   "version": "3.8.5"
  }
 },
 "nbformat": 4,
 "nbformat_minor": 4
}
